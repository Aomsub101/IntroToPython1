{
 "cells": [
  {
   "cell_type": "markdown",
   "metadata": {},
   "source": [
    "## COMMENTING"
   ]
  },
  {
   "cell_type": "code",
   "execution_count": 5,
   "metadata": {},
   "outputs": [
    {
     "data": {
      "text/plain": [
       "'\\nThis\\nis\\nMULTIPLE\\nline\\ncomment(string)\\n'"
      ]
     },
     "execution_count": 5,
     "metadata": {},
     "output_type": "execute_result"
    }
   ],
   "source": [
    "#This is comnment\n",
    "print(\"hello world\") #This is inline comment\n",
    "\"\"\"\n",
    "This\n",
    "is\n",
    "MULTIPLE\n",
    "line\n",
    "comment(string)\n",
    "\"\"\""
   ]
  },
  {
   "cell_type": "markdown",
   "metadata": {},
   "source": [
    "### PRINT"
   ]
  },
  {
   "cell_type": "code",
   "execution_count": 11,
   "metadata": {},
   "outputs": [
    {
     "name": "stdout",
     "output_type": "stream",
     "text": [
      "Hello, Aomsub\n",
      "Hello Aomsub ! 987\n",
      "Hello-Aomsub-!-987\n",
      "Hello\n",
      "Aomsub\n",
      "!\n",
      "987\n"
     ]
    }
   ],
   "source": [
    "print(\"Hello, Aomsub\")\n",
    "print(\"Hello\", \"Aomsub\", \"!\", \"987\")\n",
    "print(\"Hello\", \"Aomsub\", \"!\", \"987\", sep=\"-\")\n",
    "print(\"Hello\", \"Aomsub\", \"!\", \"987\", sep=\"\\n\")"
   ]
  },
  {
   "cell_type": "markdown",
   "metadata": {},
   "source": [
    "## DATA TYPE"
   ]
  },
  {
   "cell_type": "markdown",
   "metadata": {},
   "source": [
    "1. integer - int\n",
    "2. floating point - float\n",
    "3. string - str\n",
    "4. boolean - bool\n",
    "5. None - None"
   ]
  },
  {
   "cell_type": "code",
   "execution_count": 12,
   "metadata": {},
   "outputs": [],
   "source": [
    "# int\n",
    "1, 2, 4, 0, -5\n",
    "int()\n",
    "\n",
    "# float\n",
    "1.5, -2.4, 3.14, 0.0000000000000000000000\n",
    "float()\n",
    "\n",
    "# string\n",
    "\"This is real string\"\n",
    "'This is also a string but single quote'\n",
    "\"\"\"\n",
    "This is a \n",
    "MULTIPLE line\n",
    "string\n",
    "\"\"\"\n",
    "str()\n",
    "\n",
    "# boolean\n",
    "True, False\n",
    "bool()\n",
    "\n",
    "# None\n",
    "None"
   ]
  },
  {
   "cell_type": "markdown",
   "metadata": {},
   "source": [
    "## TYPE CHECKING"
   ]
  },
  {
   "cell_type": "code",
   "execution_count": 29,
   "metadata": {},
   "outputs": [
    {
     "name": "stdout",
     "output_type": "stream",
     "text": [
      "<class 'float'>\n"
     ]
    },
    {
     "data": {
      "text/plain": [
       "True"
      ]
     },
     "execution_count": 29,
     "metadata": {},
     "output_type": "execute_result"
    }
   ],
   "source": [
    "print(type(0.0))\n",
    "isinstance(-1, int)\n"
   ]
  },
  {
   "cell_type": "markdown",
   "metadata": {},
   "source": [
    "### Fun Facts you should know"
   ]
  },
  {
   "cell_type": "code",
   "execution_count": null,
   "metadata": {},
   "outputs": [],
   "source": [
    "isinstance(False, int) #True\n",
    "#False == 0\n",
    "#True == 1"
   ]
  }
 ],
 "metadata": {
  "kernelspec": {
   "display_name": "my_app",
   "language": "python",
   "name": "python3"
  },
  "language_info": {
   "codemirror_mode": {
    "name": "ipython",
    "version": 3
   },
   "file_extension": ".py",
   "mimetype": "text/x-python",
   "name": "python",
   "nbconvert_exporter": "python",
   "pygments_lexer": "ipython3",
   "version": "3.12.4"
  }
 },
 "nbformat": 4,
 "nbformat_minor": 2
}
