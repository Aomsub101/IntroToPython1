{
 "cells": [
  {
   "cell_type": "code",
   "execution_count": null,
   "metadata": {},
   "outputs": [],
   "source": []
  },
  {
   "cell_type": "markdown",
   "metadata": {},
   "source": [
    "# DAY9"
   ]
  },
  {
   "cell_type": "markdown",
   "metadata": {},
   "source": [
    "## LIST\n",
    "__________"
   ]
  },
  {
   "cell_type": "code",
   "execution_count": null,
   "metadata": {},
   "outputs": [],
   "source": [
    "empty_list = []\n",
    "empty_list = list()\n",
    "\n",
    "print(\"Hello\", \"World\", sep=\"+\")\n",
    "numbers = [1, 2, 3, 4]\n",
    "\n",
    "my_list = [1, 0.2, True, \"String WOW\", None, [], [1, 2], print, input, empty_list]\n",
    "\n",
    "\n"
   ]
  },
  {
   "cell_type": "markdown",
   "metadata": {},
   "source": [
    "## LENGHT, INDEXING, SLICING, LOOP\n",
    "________"
   ]
  },
  {
   "cell_type": "code",
   "execution_count": null,
   "metadata": {},
   "outputs": [],
   "source": [
    "l = [1, True, 0.5]\n",
    "len(l)"
   ]
  },
  {
   "cell_type": "code",
   "execution_count": null,
   "metadata": {},
   "outputs": [],
   "source": [
    "str = \"I am the string xD\"\n",
    "print(str[3])\n",
    "\n",
    "l[2] # work the same as string index\n"
   ]
  },
  {
   "cell_type": "code",
   "execution_count": null,
   "metadata": {},
   "outputs": [],
   "source": [
    "l = [1, True, 0.5, \"PalmBOI\", None, print]\n",
    "\n",
    "l[1:5] # l[start: stop: step] output as a list\n",
    "l[::-1]"
   ]
  },
  {
   "cell_type": "code",
   "execution_count": null,
   "metadata": {},
   "outputs": [],
   "source": [
    "for item in l:\n",
    "    print(item)"
   ]
  },
  {
   "cell_type": "markdown",
   "metadata": {},
   "source": [
    "## MODIFYING OUT LIST\n",
    "__________"
   ]
  },
  {
   "cell_type": "code",
   "execution_count": null,
   "metadata": {},
   "outputs": [],
   "source": [
    "l = [1, 2, 3]\n",
    "l.append(4) # add only one element in the list\n",
    "print(l)\n",
    "\n",
    "l.insert(1, True) # add two element to the list\n",
    "print(l)\n",
    "\n",
    "l.extend([5, 6, 7, 8, 9, 10])\n",
    "print(l)\n",
    "\n",
    "l += [\"this\", \"work\", \"the\", \"same\"]\n",
    "print(l)"
   ]
  },
  {
   "cell_type": "code",
   "execution_count": null,
   "metadata": {},
   "outputs": [],
   "source": [
    "list_a = [1, 2, 3]\n",
    "list_b = [4, 5, 6]\n",
    "\n",
    "# c = [[1, 2, 3],[4, 5, 6]]\n",
    "list_c = []\n",
    "\n",
    "list_c.extend([list_a, list_b])\n",
    "\n",
    "print(list_c)"
   ]
  },
  {
   "cell_type": "markdown",
   "metadata": {},
   "source": [
    "## POP, REMOVE, CLEAR\n",
    "______"
   ]
  },
  {
   "cell_type": "code",
   "execution_count": null,
   "metadata": {},
   "outputs": [],
   "source": [
    "# pop\n",
    "l = [1, 2, 3]\n",
    "l.pop() # pop out the last element of the list\n",
    "\n",
    "print(l)"
   ]
  },
  {
   "cell_type": "code",
   "execution_count": null,
   "metadata": {},
   "outputs": [],
   "source": [
    "# remove\n",
    "l = [1, 2, 3, True]\n",
    "l.remove(3) # remove the specifying value\n",
    "\n",
    "print(l)"
   ]
  },
  {
   "cell_type": "code",
   "execution_count": null,
   "metadata": {},
   "outputs": [],
   "source": [
    "l = [1, 2, None, 1, 3, print]\n",
    "new_l = []\n",
    "\n",
    "for item in l:\n",
    "    if not item == 1:\n",
    "        new_l.append(item)\n",
    "\n",
    "print(new_l)\n",
    "# Note: does not work when there is a boolean True"
   ]
  },
  {
   "cell_type": "markdown",
   "metadata": {},
   "source": [
    "## UPDATE/CHANGE THE ELEMENT\n",
    "_________"
   ]
  },
  {
   "cell_type": "code",
   "execution_count": null,
   "metadata": {},
   "outputs": [],
   "source": [
    "l = [1, 2, 0.5, None, 1, 'VetitBOI']\n",
    "l[1] = 3\n",
    "print(l)\n",
    "\n",
    "l[5][1] # index 5 of the list and 1 at the string at that index"
   ]
  },
  {
   "cell_type": "markdown",
   "metadata": {},
   "source": [
    "# DAY10"
   ]
  },
  {
   "cell_type": "markdown",
   "metadata": {},
   "source": [
    "## *LIST (LIST EXTRACTOR)\n",
    "__________"
   ]
  },
  {
   "cell_type": "code",
   "execution_count": null,
   "metadata": {},
   "outputs": [],
   "source": [
    "l = [1, True, 0.5, \"Palm\", None, print]\n",
    "\n",
    "print(l)\n",
    "print(*l) # extract the list element\n"
   ]
  },
  {
   "cell_type": "markdown",
   "metadata": {},
   "source": [
    "## MULTIPLY / ADD\n",
    "____________"
   ]
  },
  {
   "cell_type": "code",
   "execution_count": null,
   "metadata": {},
   "outputs": [],
   "source": [
    "zeroes = [0] * 6 # [0, 0, 0, 0, 0, 0]\n",
    "\n",
    "[3] + [2] # [3, 2]"
   ]
  },
  {
   "cell_type": "code",
   "execution_count": null,
   "metadata": {},
   "outputs": [],
   "source": [
    "l = [1, 2, 1, 3, 1, 4]\n",
    "l.reverse()\n",
    "\n",
    "print(l)"
   ]
  },
  {
   "cell_type": "markdown",
   "metadata": {},
   "source": [
    "## SORTING\n",
    "__________"
   ]
  },
  {
   "cell_type": "code",
   "execution_count": null,
   "metadata": {},
   "outputs": [],
   "source": [
    "l = [1, 2, 1, 3, 1, 4]\n",
    "l.sort(reverse=True) # argument reverse\n",
    "print(l)"
   ]
  },
  {
   "cell_type": "markdown",
   "metadata": {},
   "source": [
    "## IN / NOT IN\n",
    "______"
   ]
  },
  {
   "cell_type": "code",
   "execution_count": null,
   "metadata": {},
   "outputs": [],
   "source": [
    "l = [1, 2, 1, 3, 1, 4]\n",
    "print(2 in l)"
   ]
  },
  {
   "cell_type": "code",
   "execution_count": null,
   "metadata": {},
   "outputs": [],
   "source": [
    "l = [1, 2, 1, 3, 1, 4,[1,2]]\n",
    "[1, 2] in l"
   ]
  },
  {
   "cell_type": "code",
   "execution_count": null,
   "metadata": {},
   "outputs": [],
   "source": [
    "for i in range(len(l)):\n",
    "    print(i, l[i])\n"
   ]
  },
  {
   "cell_type": "markdown",
   "metadata": {},
   "source": [
    "## MAP\n",
    "__________"
   ]
  },
  {
   "cell_type": "code",
   "execution_count": null,
   "metadata": {},
   "outputs": [],
   "source": [
    "l = [2, 7, 10]\n",
    "list(map(int, l))"
   ]
  },
  {
   "cell_type": "code",
   "execution_count": null,
   "metadata": {},
   "outputs": [],
   "source": [
    "l = [0, 1, 0.0]\n",
    "list(map(str, l))"
   ]
  },
  {
   "cell_type": "code",
   "execution_count": null,
   "metadata": {},
   "outputs": [],
   "source": [
    "# input: 1, 2, 3, 4, 5\n",
    "# in code: [1, 2, 3, 4, 5]\n",
    "l = list(map(int, input().split()))\n",
    "l"
   ]
  },
  {
   "cell_type": "markdown",
   "metadata": {},
   "source": [
    "## TUPLE\n",
    "____________"
   ]
  },
  {
   "cell_type": "markdown",
   "metadata": {},
   "source": [
    "Tuple is a list but\n",
    " - immutable (cannot be changed, added, or deleted)"
   ]
  },
  {
   "cell_type": "code",
   "execution_count": null,
   "metadata": {},
   "outputs": [],
   "source": [
    "empty_tuple = ()\n",
    "t = (1, 2, 3)\n",
    "\n",
    "t = (2) # This is an integer this is not a tuple nut number.\n",
    "one_element_tuple = (5, )\n",
    "type(one_element_tuple)"
   ]
  },
  {
   "cell_type": "code",
   "execution_count": null,
   "metadata": {},
   "outputs": [],
   "source": [
    "t = (4, 1, 3)\n",
    "sorted(t)\n",
    "list(reversed(t))"
   ]
  },
  {
   "cell_type": "code",
   "execution_count": null,
   "metadata": {},
   "outputs": [],
   "source": [
    "print(*t)"
   ]
  },
  {
   "cell_type": "code",
   "execution_count": null,
   "metadata": {},
   "outputs": [],
   "source": [
    "tuple(map(int, input().split()))"
   ]
  },
  {
   "cell_type": "code",
   "execution_count": null,
   "metadata": {},
   "outputs": [],
   "source": [
    "print(t * 5)\n",
    "print(t+t)"
   ]
  },
  {
   "cell_type": "code",
   "execution_count": null,
   "metadata": {},
   "outputs": [],
   "source": [
    "t1 = (1, 2, 3)\n",
    "t2 = (4, 5, 6)\n",
    "\n",
    "t1 + t2 # This guy create a new tuple"
   ]
  },
  {
   "cell_type": "markdown",
   "metadata": {},
   "source": [
    "Why we use tuple?\n",
    "1. Something that should not be changed\n",
    "2. Lower memory and CPU usage (relative to list)\n",
    "3. Only Immutable object (In python!!) that stores sequence of data"
   ]
  },
  {
   "cell_type": "markdown",
   "metadata": {},
   "source": []
  },
  {
   "cell_type": "markdown",
   "metadata": {},
   "source": []
  },
  {
   "cell_type": "markdown",
   "metadata": {},
   "source": [
    "# DAY11"
   ]
  },
  {
   "cell_type": "markdown",
   "metadata": {},
   "source": [
    "## SET\n",
    "____________"
   ]
  },
  {
   "cell_type": "markdown",
   "metadata": {},
   "source": [
    "### SET OPERATIONS"
   ]
  },
  {
   "cell_type": "code",
   "execution_count": null,
   "metadata": {},
   "outputs": [],
   "source": [
    "empty_set = set()\n",
    "non_empty_set = {1, 2, 3, 4, 4} # \n",
    "\n",
    "non_empty_set # {1, 2, 3, 4} becase set has only unique value"
   ]
  },
  {
   "cell_type": "code",
   "execution_count": null,
   "metadata": {},
   "outputs": [],
   "source": [
    "l = [1, 2, 3, 4, 4]\n",
    "print(set(l)) # turn list into a set\n",
    "\n",
    "t = (1, 2, 2, 3, 4)\n",
    "print(set(t))"
   ]
  },
  {
   "cell_type": "code",
   "execution_count": null,
   "metadata": {},
   "outputs": [],
   "source": [
    "\n",
    "s1 = {1, 2, 3}\n",
    "s2 = {3, 4, 5}\n",
    "\n",
    "# will give an error\n",
    "    # reversed(s)\n",
    "    # sort(s)\n",
    "    # s1 + s2\n",
    "    # indexing, slicing\n",
    "    # s1[0]\n",
    "    # and more\n",
    "\n",
    "s1"
   ]
  },
  {
   "cell_type": "markdown",
   "metadata": {},
   "source": [
    "### ADD/ REMOVE"
   ]
  },
  {
   "cell_type": "code",
   "execution_count": null,
   "metadata": {},
   "outputs": [],
   "source": [
    "s = {1, 2, 4, 5}\n",
    "s.add(5)\n",
    "s.remove(1)\n",
    "print(s)\n"
   ]
  },
  {
   "cell_type": "markdown",
   "metadata": {},
   "source": [
    "### POP IS WEIRD"
   ]
  },
  {
   "cell_type": "code",
   "execution_count": null,
   "metadata": {},
   "outputs": [],
   "source": [
    "words = {'cat', 'dog', 1, 2, True, None, 0.5, (1, 2)} # Note: list is unhashable\n",
    "words.pop()\n",
    "words"
   ]
  },
  {
   "cell_type": "markdown",
   "metadata": {},
   "source": [
    "### UPDATE"
   ]
  },
  {
   "cell_type": "code",
   "execution_count": null,
   "metadata": {},
   "outputs": [],
   "source": [
    "s1 = {1, 2 ,3}\n",
    "s1.update([2, 3, 4])\n",
    "\n",
    "s1"
   ]
  },
  {
   "cell_type": "markdown",
   "metadata": {},
   "source": [
    "### UNION INTERSECT DIFFERENCE"
   ]
  },
  {
   "cell_type": "code",
   "execution_count": null,
   "metadata": {},
   "outputs": [],
   "source": [
    "s1 = {1, 2, 3}\n",
    "s2 = {3, 4, 5}\n",
    "\n",
    "s1.union(s2)\n",
    "s1.intersection(s2)\n",
    "s1.difference(s2)\n",
    "\n",
    "s1-s2 # same as difference\n",
    "s1 | s2 # same as union\n",
    "s1 & s2 # same as intersection"
   ]
  },
  {
   "cell_type": "code",
   "execution_count": null,
   "metadata": {},
   "outputs": [],
   "source": [
    "words = {\"apple\", \"banana\", \"cat\", \"dog\"}\n",
    "words"
   ]
  },
  {
   "cell_type": "code",
   "execution_count": null,
   "metadata": {},
   "outputs": [],
   "source": [
    "words2 = {\"apple\", \"banana\", \"cat\", \"dog\"}\n",
    "words2"
   ]
  },
  {
   "cell_type": "markdown",
   "metadata": {},
   "source": [
    "### IN/ NOT IN"
   ]
  },
  {
   "cell_type": "code",
   "execution_count": null,
   "metadata": {},
   "outputs": [],
   "source": [
    "s = {1, 2, 3} # O(1)\n",
    "l = [1, 2, 3] # O(n)\n",
    "0 in l\n",
    "1 in s"
   ]
  },
  {
   "cell_type": "code",
   "execution_count": null,
   "metadata": {},
   "outputs": [],
   "source": [
    "if 1 in s:\n",
    "    print(\"YAY!\")\n",
    "else:\n",
    "    print(\"NO SIRE\")\n",
    "    "
   ]
  },
  {
   "cell_type": "markdown",
   "metadata": {},
   "source": [
    "### LOOP"
   ]
  },
  {
   "cell_type": "code",
   "execution_count": null,
   "metadata": {},
   "outputs": [],
   "source": [
    "s = {'apple', 'banana', 'cat', 'dog'}\n",
    "for i, ele in enumerate(s):\n",
    "    print(i, ele)"
   ]
  },
  {
   "cell_type": "markdown",
   "metadata": {},
   "source": [
    "## DICTIONARY\n",
    "_______________"
   ]
  },
  {
   "cell_type": "markdown",
   "metadata": {},
   "source": []
  },
  {
   "cell_type": "code",
   "execution_count": null,
   "metadata": {},
   "outputs": [],
   "source": [
    "นี่คือดิก = {\"key\":1}\n",
    "\n",
    "print(นี่คือดิก['key'])\n",
    "empty_dict = dict()\n",
    "empty_dict = {}\n",
    "\n",
    "\n",
    "animals_leg = {\n",
    "    \"horse\": 4,\n",
    "    \"cat\": 4,\n",
    "    \"human\": 2\n",
    "}\n",
    "\n",
    "print(animals_leg['horse'])"
   ]
  },
  {
   "cell_type": "code",
   "execution_count": 14,
   "metadata": {},
   "outputs": [],
   "source": [
    "d = {None: \"YIPPIE\"}\n",
    "d = {(1, 2): \"OMAGODDO\"}\n",
    "\n",
    "d = {\n",
    "    1: 2,\n",
    "    3: 2,\n",
    "    1: 4\n",
    "}\n",
    "\n",
    "# d = {[1, 2]: \"NOPE\"}\n",
    "# d = {{1, 2}: \"Nope\"}"
   ]
  },
  {
   "cell_type": "markdown",
   "metadata": {},
   "source": [
    "### CHANGE THE VALUE"
   ]
  },
  {
   "cell_type": "code",
   "execution_count": null,
   "metadata": {},
   "outputs": [],
   "source": [
    "animals_leg = {\n",
    "    \"horse\": 4,\n",
    "    \"cat\": 4,\n",
    "    \"human\": 2\n",
    "}\n",
    "\n",
    "animals_leg['horse'] = 6\n",
    "animals_leg"
   ]
  },
  {
   "cell_type": "markdown",
   "metadata": {},
   "source": [
    "### ADD KEY-VALUE PAIR"
   ]
  },
  {
   "cell_type": "code",
   "execution_count": null,
   "metadata": {},
   "outputs": [],
   "source": [
    "animals_leg[\"unicorn\"] = 500\n",
    "animals_leg"
   ]
  },
  {
   "cell_type": "markdown",
   "metadata": {},
   "source": [
    "### OPERATIONS"
   ]
  },
  {
   "cell_type": "code",
   "execution_count": null,
   "metadata": {},
   "outputs": [],
   "source": [
    "animals_leg = {'horse': 4, 'cat': 4, 'human': 2, 'pig':4, 'fish': 0}\n",
    "\n",
    "len(animals_leg)"
   ]
  },
  {
   "cell_type": "markdown",
   "metadata": {},
   "source": [
    "### IN / NOT IN"
   ]
  },
  {
   "cell_type": "code",
   "execution_count": null,
   "metadata": {},
   "outputs": [],
   "source": [
    "print(4 in animals_leg) # False\n",
    "print('horse' in animals_leg) # True\n",
    "print('turtle' in animals_leg) # True"
   ]
  },
  {
   "cell_type": "markdown",
   "metadata": {},
   "source": [
    "### METHOD"
   ]
  },
  {
   "cell_type": "markdown",
   "metadata": {},
   "source": [
    "#### GET"
   ]
  },
  {
   "cell_type": "code",
   "execution_count": null,
   "metadata": {},
   "outputs": [],
   "source": [
    "animals_leg = {'horse': 4, 'cat': 4, 'human': 2, 'pig':4, 'fish': 0, 'turtle': 4}\n",
    "animals_leg.get('turtle') # return None if there are not turtle in the dictionary\n",
    "# animals_leg['turtle'] # Type Error"
   ]
  },
  {
   "cell_type": "markdown",
   "metadata": {},
   "source": [
    "#### UPDATE"
   ]
  },
  {
   "cell_type": "code",
   "execution_count": null,
   "metadata": {},
   "outputs": [],
   "source": [
    "animals_leg = {'horse': 4, 'cat': 4, 'human': 2, 'pig':4, 'fish': 0}\n",
    "animals_leg.update({'horse': 10})\n",
    "animals_leg"
   ]
  },
  {
   "cell_type": "markdown",
   "metadata": {},
   "source": [
    "#### DELETE"
   ]
  },
  {
   "cell_type": "code",
   "execution_count": null,
   "metadata": {},
   "outputs": [],
   "source": [
    "animals_leg = {'horse': 4, 'cat': 4, 'human': 2, 'pig':4, 'fish': 0}\n",
    "# del animals_leg['horse']\n",
    "\n",
    "animals_leg.popitem() # pop the last item\n",
    "animals_leg.pop('cat')\n",
    "animals_leg\n"
   ]
  },
  {
   "cell_type": "markdown",
   "metadata": {},
   "source": [
    "### LOOPS"
   ]
  },
  {
   "cell_type": "code",
   "execution_count": null,
   "metadata": {},
   "outputs": [],
   "source": [
    "print(list(animals_leg.items()))\n",
    "print(list(animals_leg.keys()))\n",
    "print(list(animals_leg.values()))"
   ]
  },
  {
   "cell_type": "code",
   "execution_count": null,
   "metadata": {},
   "outputs": [],
   "source": [
    "animals_leg = {'horse': 4, 'cat': 4, 'human': 2, 'pig':4, 'fish': 0}\n",
    "for key in animals_leg:\n",
    "    print(key)"
   ]
  },
  {
   "cell_type": "markdown",
   "metadata": {},
   "source": []
  },
  {
   "cell_type": "code",
   "execution_count": null,
   "metadata": {},
   "outputs": [],
   "source": [
    "for i, element in enumerate(animals_leg):\n",
    "    print(i, element)"
   ]
  },
  {
   "cell_type": "code",
   "execution_count": null,
   "metadata": {},
   "outputs": [],
   "source": [
    "for i, ele in animals_leg.items():\n",
    "    print(i, ele)"
   ]
  },
  {
   "cell_type": "code",
   "execution_count": null,
   "metadata": {},
   "outputs": [],
   "source": [
    "for key in animals_leg.keys():\n",
    "    print(key)"
   ]
  },
  {
   "cell_type": "code",
   "execution_count": null,
   "metadata": {},
   "outputs": [],
   "source": []
  },
  {
   "cell_type": "code",
   "execution_count": null,
   "metadata": {},
   "outputs": [],
   "source": [
    "animals_leg.clear()\n",
    "animals_leg"
   ]
  }
 ],
 "metadata": {
  "kernelspec": {
   "display_name": "my_app",
   "language": "python",
   "name": "python3"
  },
  "language_info": {
   "codemirror_mode": {
    "name": "ipython",
    "version": 3
   },
   "file_extension": ".py",
   "mimetype": "text/x-python",
   "name": "python",
   "nbconvert_exporter": "python",
   "pygments_lexer": "ipython3",
   "version": "3.12.4"
  }
 },
 "nbformat": 4,
 "nbformat_minor": 2
}
