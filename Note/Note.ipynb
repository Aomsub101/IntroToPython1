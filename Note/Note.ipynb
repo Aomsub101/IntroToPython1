{
 "cells": [
  {
   "cell_type": "markdown",
   "metadata": {},
   "source": [
    "# NOTE by Aom(SUB)\n",
    "---------------------------------------"
   ]
  },
  {
   "cell_type": "markdown",
   "metadata": {},
   "source": [
    "# DAY2"
   ]
  },
  {
   "cell_type": "markdown",
   "metadata": {},
   "source": [
    "## COMMENTING\n",
    "___________________________________________________________________"
   ]
  },
  {
   "cell_type": "code",
   "execution_count": 17,
   "metadata": {},
   "outputs": [
    {
     "name": "stdout",
     "output_type": "stream",
     "text": [
      "hello world\n"
     ]
    },
    {
     "data": {
      "text/plain": [
       "'\\nThis\\nis\\nMULTIPLE\\nline\\ncomment(string)\\n'"
      ]
     },
     "execution_count": 17,
     "metadata": {},
     "output_type": "execute_result"
    }
   ],
   "source": [
    "# This is comnment\n",
    "print(\"hello world\") # This is inline comment\n",
    "\"\"\"\n",
    "This\n",
    "is\n",
    "MULTIPLE\n",
    "line\n",
    "comment(string)\n",
    "\"\"\""
   ]
  },
  {
   "cell_type": "markdown",
   "metadata": {},
   "source": [
    "### PRINT"
   ]
  },
  {
   "cell_type": "code",
   "execution_count": 18,
   "metadata": {},
   "outputs": [
    {
     "name": "stdout",
     "output_type": "stream",
     "text": [
      "Hello, Aomsub\n",
      "Hello Aomsub ! 987\n",
      "Hello-Aomsub-!-987\n",
      "Hello\n",
      "Aomsub\n",
      "!\n",
      "987\n"
     ]
    }
   ],
   "source": [
    "print(\"Hello, Aomsub\")\n",
    "print(\"Hello\", \"Aomsub\", \"!\", \"987\")\n",
    "print(\"Hello\", \"Aomsub\", \"!\", \"987\", sep=\"-\")\n",
    "print(\"Hello\", \"Aomsub\", \"!\", \"987\", sep=\"\\n\")"
   ]
  },
  {
   "cell_type": "markdown",
   "metadata": {},
   "source": [
    "## DATA TYPE\n",
    "___________________________________________________________________"
   ]
  },
  {
   "cell_type": "markdown",
   "metadata": {},
   "source": [
    "1. integer - int\n",
    "2. floating point - float\n",
    "3. string - str\n",
    "4. boolean - bool\n",
    "5. None - None"
   ]
  },
  {
   "cell_type": "code",
   "execution_count": 19,
   "metadata": {},
   "outputs": [],
   "source": [
    "# int\n",
    "1, 2, 4, 0, -5\n",
    "int()\n",
    "\n",
    "# float\n",
    "1.5, -2.4, 3.14, 0.0000000000000000000000\n",
    "float()\n",
    "\n",
    "# string\n",
    "\"This is real string\"\n",
    "'This is also a string but single quote'\n",
    "\"\"\"\n",
    "This is a \n",
    "MULTIPLE line\n",
    "string\n",
    "\"\"\"\n",
    "str()\n",
    "\n",
    "# boolean\n",
    "True, False\n",
    "bool()\n",
    "\n",
    "# None\n",
    "None"
   ]
  },
  {
   "cell_type": "markdown",
   "metadata": {},
   "source": [
    "## TYPE CHECKING\n",
    "___________________________________________________________________"
   ]
  },
  {
   "cell_type": "code",
   "execution_count": 20,
   "metadata": {},
   "outputs": [
    {
     "name": "stdout",
     "output_type": "stream",
     "text": [
      "<class 'float'>\n"
     ]
    },
    {
     "data": {
      "text/plain": [
       "True"
      ]
     },
     "execution_count": 20,
     "metadata": {},
     "output_type": "execute_result"
    }
   ],
   "source": [
    "print(type(0.0))\n",
    "isinstance(-1, int)\n"
   ]
  },
  {
   "cell_type": "markdown",
   "metadata": {},
   "source": [
    "### Fun Facts you should know"
   ]
  },
  {
   "cell_type": "code",
   "execution_count": 21,
   "metadata": {},
   "outputs": [
    {
     "data": {
      "text/plain": [
       "True"
      ]
     },
     "execution_count": 21,
     "metadata": {},
     "output_type": "execute_result"
    }
   ],
   "source": [
    "isinstance(False, int) #True\n",
    "#False == 0\n",
    "#True == 1"
   ]
  },
  {
   "cell_type": "markdown",
   "metadata": {},
   "source": [
    "\n",
    "# DAY3"
   ]
  },
  {
   "cell_type": "markdown",
   "metadata": {},
   "source": [
    "## ASSIGN VALUE\n",
    "____________________"
   ]
  },
  {
   "cell_type": "code",
   "execution_count": 22,
   "metadata": {},
   "outputs": [
    {
     "name": "stdout",
     "output_type": "stream",
     "text": [
      "28\n",
      "None\n"
     ]
    }
   ],
   "source": [
    "# When assign the value, make sure to leave a white space between an equal sign\n",
    "age = 28\n",
    "print(age)\n",
    "\n",
    "number = 20\n",
    "number = None\n",
    "print(number) # Python reading from top-to-bottom"
   ]
  },
  {
   "cell_type": "markdown",
   "metadata": {},
   "source": [
    "## NAMING VARIBLE\n",
    "__________________"
   ]
  },
  {
   "cell_type": "code",
   "execution_count": 23,
   "metadata": {},
   "outputs": [],
   "source": [
    "# Make sure to make the variable MEANINGFUL and not too long\n",
    "\n",
    "# GOOD\n",
    "name = \"Sub\" \n",
    "age = 18\n",
    "gender = \"Male\"\n",
    "sport = \"Badminton\"\n",
    "\n",
    "# BAD\n",
    "n = \"Mike\"\n",
    "g = 15\n",
    "date_of_birth_of_a_principal_at_harbourspace = \"12/04/1990\"\n"
   ]
  },
  {
   "cell_type": "code",
   "execution_count": 24,
   "metadata": {},
   "outputs": [
    {
     "ename": "SyntaxError",
     "evalue": "cannot assign to True (2491802490.py, line 2)",
     "output_type": "error",
     "traceback": [
      "\u001b[1;36m  Cell \u001b[1;32mIn[24], line 2\u001b[1;36m\u001b[0m\n\u001b[1;33m    True = \"Not real\" # DO NOT DO THIS\u001b[0m\n\u001b[1;37m    ^\u001b[0m\n\u001b[1;31mSyntaxError\u001b[0m\u001b[1;31m:\u001b[0m cannot assign to True\n"
     ]
    }
   ],
   "source": [
    "# Make sure to not assign the value to a reserved keywords\n",
    "True = \"Not real\" # DO NOT DO THIS\n",
    "\n",
    "#   True = \"Not real\" # DO NOT DO THIS\n",
    "#   ^\n",
    "#   SyntaxError: cannot assign to True"
   ]
  },
  {
   "cell_type": "markdown",
   "metadata": {},
   "source": [
    "## INPUT\n",
    "______________"
   ]
  },
  {
   "cell_type": "code",
   "execution_count": 7,
   "metadata": {},
   "outputs": [
    {
     "name": "stdout",
     "output_type": "stream",
     "text": [
      "Hello, Welcome Sub\n"
     ]
    }
   ],
   "source": [
    "# You can put a string inside an input, so you let the user know what to input\n",
    "name = input(\"Enter your name: \") \n",
    "\n",
    "print(\"Hello, Welcome\", name)\n"
   ]
  },
  {
   "cell_type": "markdown",
   "metadata": {},
   "source": [
    "## CONVERT\n",
    "---------------------------------"
   ]
  },
  {
   "cell_type": "code",
   "execution_count": null,
   "metadata": {},
   "outputs": [],
   "source": [
    "# convert to integer\n",
    "# int()\n",
    "a = int(\"4\")\n",
    "a = int(\"-1\")\n",
    "a = int(True) # True == 1\n",
    "a = int(2.4) # Round down\n",
    "\n",
    "a = int(\"2.4\") # Error\n",
    "a = int(\"True\") # Error\n",
    "print(a, type(a))"
   ]
  },
  {
   "cell_type": "code",
   "execution_count": null,
   "metadata": {},
   "outputs": [],
   "source": [
    "# convert to float\n",
    "# float()\n",
    "a = float(\"4\")\n",
    "a = float(\"-1\")\n",
    "a = float(True) # True == 1\n",
    "a = float(2.4)\n",
    "\n",
    "a = float(\"2.4\")\n",
    "a = float(\"-1.4\")\n",
    "a = float(\"True\") # Error\n",
    "print(a, type(a))"
   ]
  },
  {
   "cell_type": "code",
   "execution_count": 18,
   "metadata": {},
   "outputs": [
    {
     "name": "stdout",
     "output_type": "stream",
     "text": [
      "False <class 'bool'>\n"
     ]
    }
   ],
   "source": [
    "# convert to boolean\n",
    "# bool()\n",
    "a = bool(0) # False\n",
    "a = bool(1) # True and a number > 0 is True\n",
    "\n",
    "a = bool(\"\") # False\n",
    "a = bool(None) # False\n",
    "\n",
    "print(a, type(a))"
   ]
  },
  {
   "cell_type": "code",
   "execution_count": 23,
   "metadata": {},
   "outputs": [
    {
     "name": "stdout",
     "output_type": "stream",
     "text": [
      "\n",
      "True <class 'bool'>\n"
     ]
    }
   ],
   "source": [
    "# convert to string\n",
    "a = str(1) # \"1\"\n",
    "a = str(True) # \"True\"\n",
    "a = str(None) # \"None\"\n",
    "a = str(print()) # None\n",
    "a = str()\n",
    "a = bool(str(float(-2))) # True\n",
    "\n",
    "print(a, type(a))"
   ]
  },
  {
   "cell_type": "markdown",
   "metadata": {},
   "source": [
    "## MATH OPERATIONS\n",
    "-----------------------------------"
   ]
  },
  {
   "cell_type": "code",
   "execution_count": 30,
   "metadata": {},
   "outputs": [
    {
     "name": "stdout",
     "output_type": "stream",
     "text": [
      "0.10000000000000053\n"
     ]
    }
   ],
   "source": [
    "# addition\n",
    "a = 1 + 1 # 2\n",
    "\n",
    "# subctraction\n",
    "a = 1 - 1 # 0\n",
    "\n",
    "# multiplication\n",
    "a = 2 * 4 # 8\n",
    "\n",
    "# division\n",
    "a = 4 / 2 # 2.0\n",
    "a = 4 // 2 # 2 (Whole number without the remainder)\n",
    "a = int(4 / 2) # 2\n",
    "\n",
    "a = 7 / 3 # 2.3333333333...\n",
    "a = 7 // 3 # 2\n",
    "\n",
    "# power\n",
    "a = 2 ** 3\n",
    "\n",
    "# modulus\n",
    "a = 8 % 5 # 3\n",
    "a = 12 % 8 # 4\n",
    "a = 10 % 3.3 # 0.10000000000000053 (normally we modulus with a whole number)\n"
   ]
  },
  {
   "cell_type": "code",
   "execution_count": null,
   "metadata": {},
   "outputs": [],
   "source": [
    "# Fun facts\n",
    "a = 0 ** 0 # 1\n",
    "a = 0 / 0 # ZeroDivisionError: division by zero\n",
    "a = 9 % 0 # ZeroDivisionError: integer modulo by zero"
   ]
  },
  {
   "cell_type": "code",
   "execution_count": 35,
   "metadata": {},
   "outputs": [
    {
     "data": {
      "text/plain": [
       "1.0"
      ]
     },
     "execution_count": 42,
     "metadata": {},
     "output_type": "execute_result"
    }
   ],
   "source": [
    "# do something with float you will get float as a result\n",
    "10.0 - 10"
   ]
  },
  {
   "cell_type": "code",
   "execution_count": 40,
   "metadata": {},
   "outputs": [
    {
     "data": {
      "text/plain": [
       "0.30000000000000004"
      ]
     },
     "execution_count": 40,
     "metadata": {},
     "output_type": "execute_result"
    }
   ],
   "source": [
    "# some stuff related to computer's memory\n",
    "0.1 + 0.2"
   ]
  },
  {
   "cell_type": "code",
   "execution_count": 43,
   "metadata": {},
   "outputs": [
    {
     "data": {
      "text/plain": [
       "12.0"
      ]
     },
     "execution_count": 43,
     "metadata": {},
     "output_type": "execute_result"
    }
   ],
   "source": [
    "# 12.9 -> 12.0\n",
    "12.9 // 1"
   ]
  },
  {
   "cell_type": "markdown",
   "metadata": {},
   "source": [
    "## ORDER OF OPERATIONS\n",
    "____________________"
   ]
  },
  {
   "cell_type": "code",
   "execution_count": 46,
   "metadata": {},
   "outputs": [
    {
     "data": {
      "text/plain": [
       "-1.0"
      ]
     },
     "execution_count": 46,
     "metadata": {},
     "output_type": "execute_result"
    }
   ],
   "source": [
    "# () --> ** --> */ --> +-\n",
    "\n",
    "# Bad\n",
    "2 * 2 - 2 / 2 - 2 ** 2\n",
    "\n",
    "# PEP8\n",
    "a = (2 * 2)- (2 / 2) - (2 ** 2) #1st way of organizing the code\n",
    "b = 2*2 - 2/2 - 2**2 #2nd way of organizing the code\n",
    "\n",
    "# note that floating point came from division"
   ]
  },
  {
   "cell_type": "code",
   "execution_count": 52,
   "metadata": {},
   "outputs": [
    {
     "data": {
      "text/plain": [
       "0.5"
      ]
     },
     "execution_count": 52,
     "metadata": {},
     "output_type": "execute_result"
    }
   ],
   "source": [
    "a = 4 + 4\n",
    "b = 3 * 2\n",
    "a = a + 4\n",
    "a = b / a\n",
    "\n",
    "a"
   ]
  },
  {
   "cell_type": "code",
   "execution_count": 53,
   "metadata": {},
   "outputs": [
    {
     "data": {
      "text/plain": [
       "8.5"
      ]
     },
     "execution_count": 53,
     "metadata": {},
     "output_type": "execute_result"
    }
   ],
   "source": [
    "# The next two lines do the same task, which is increase a by 4\n",
    "a = a + 4\n",
    "a += 4\n",
    "a"
   ]
  },
  {
   "cell_type": "markdown",
   "metadata": {},
   "source": [
    "## LOGICAL OPERATORS\n",
    "____________________"
   ]
  },
  {
   "cell_type": "code",
   "execution_count": 8,
   "metadata": {},
   "outputs": [
    {
     "data": {
      "text/plain": [
       "True"
      ]
     },
     "execution_count": 8,
     "metadata": {},
     "output_type": "execute_result"
    }
   ],
   "source": [
    "a = 5\n",
    "\n",
    "2 > 3  # False\n",
    "a == 6 # False\n",
    "a >= 5 # True\n",
    "a <= 4 # False\n",
    "a != 5 # False\n",
    "\n",
    "# You can chain the operator\n",
    "4 > 3 > 1   # True\n",
    "3 == 3 != 3 # False\n"
   ]
  },
  {
   "cell_type": "markdown",
   "metadata": {},
   "source": [
    "# DAY4"
   ]
  },
  {
   "cell_type": "markdown",
   "metadata": {},
   "source": [
    "## LOGICAL CONNECTORS\n",
    "____________________"
   ]
  },
  {
   "cell_type": "code",
   "execution_count": 16,
   "metadata": {},
   "outputs": [
    {
     "data": {
      "text/plain": [
       "True"
      ]
     },
     "execution_count": 16,
     "metadata": {},
     "output_type": "execute_result"
    }
   ],
   "source": [
    "# not\n",
    "not True         # False\n",
    "not False        # True\n",
    "not None         # True\n",
    "\n",
    "# and\n",
    "3 >= 1 and True  # True\n",
    "4 < 1 and True   # False\n",
    "\n",
    "# or\n",
    "3 >= 1 or 4 < 1  # True\n",
    "3 == 2 or 3 == 3 # True\n",
    "\n",
    "a = 5\n",
    "b = 6\n",
    "\n",
    "a != b-1 or b**2 > a # True"
   ]
  },
  {
   "cell_type": "markdown",
   "metadata": {},
   "source": [
    "## CONVERT INPUT\n",
    "_____________"
   ]
  },
  {
   "cell_type": "code",
   "execution_count": 21,
   "metadata": {},
   "outputs": [
    {
     "name": "stdout",
     "output_type": "stream",
     "text": [
      "Nattanat Lertariyamaythee 18\n"
     ]
    }
   ],
   "source": [
    "user_age = int(input(\"Enter your age\"))         # integer\n",
    "user_firstname = input(\"Enter your first name\") # string\n",
    "user_lastname = input(\"Enter your lastname\")    # string\n",
    "\n",
    "print(user_firstname, user_lastname, user_age)"
   ]
  },
  {
   "cell_type": "markdown",
   "metadata": {},
   "source": [
    "## ADDER PROGRAM\n",
    "___________________"
   ]
  },
  {
   "cell_type": "code",
   "execution_count": 23,
   "metadata": {},
   "outputs": [
    {
     "name": "stdout",
     "output_type": "stream",
     "text": [
      "The result is: 2356\n"
     ]
    }
   ],
   "source": [
    "#\n",
    "first_num = int(input(\"Enter first number:\"))\n",
    "second_num = int(input(\"Enter second number\"))\n",
    "\n",
    "sum = first_num + second_num\n",
    "\n",
    "print(\"The result is:\", sum)"
   ]
  },
  {
   "cell_type": "markdown",
   "metadata": {},
   "source": [
    "## QUIZ CONVERT TEMPERATURE\n",
    "______"
   ]
  },
  {
   "cell_type": "code",
   "execution_count": 27,
   "metadata": {},
   "outputs": [
    {
     "name": "stdout",
     "output_type": "stream",
     "text": [
      "Result 32.0 F\n"
     ]
    }
   ],
   "source": [
    "# \n",
    "current_unit = input(\"Enter your current unit (C, K, F, R): \").upper()\n",
    "final_unit = input(\"Enter your prefer unit (C, K, F, R): \").upper()\n",
    "current_temp = float(input(\"Enter current temperature: \"))\n",
    "temp_in_kelvin = 0\n",
    "final_temp = 0\n",
    "\n",
    "if current_unit == 'C':\n",
    "    temp_in_kelvin = current_temp + 273.15\n",
    "elif current_unit == 'F':\n",
    "    temp_in_kelvin = ((current_temp - 32) * 5 / 9) + 273.15\n",
    "elif current_unit == 'R':\n",
    "    temp_in_kelvin = current_temp / 1.8\n",
    "else:\n",
    "    temp_in_kelvin = current_temp\n",
    "\n",
    "if final_unit == 'C':\n",
    "    final_temp = temp_in_kelvin - 273.15\n",
    "elif final_unit == 'F':\n",
    "    final_temp = ((temp_in_kelvin - 273.15) * 9 / 5) + 32\n",
    "elif final_unit == 'R':\n",
    "    final_temp = temp_in_kelvin * 1.8\n",
    "else:\n",
    "    final_temp = temp_in_kelvin\n",
    "\n",
    "print(\"Result\", final_temp, final_unit)"
   ]
  },
  {
   "cell_type": "markdown",
   "metadata": {},
   "source": [
    "## MATH FUNCTIONS\n",
    "_____________"
   ]
  },
  {
   "cell_type": "code",
   "execution_count": 53,
   "metadata": {},
   "outputs": [
    {
     "data": {
      "text/plain": [
       "990"
      ]
     },
     "execution_count": 53,
     "metadata": {},
     "output_type": "execute_result"
    }
   ],
   "source": [
    "# abs\n",
    "abs(-20) # 20\n",
    "\n",
    "# min max\n",
    "max(20, 40, 50, 500) # 500\n",
    "min(20, 40, 50, 500) # 20\n",
    "\n",
    "# round\n",
    "round(986, -1) # round(number, # of decimal point) # 990"
   ]
  },
  {
   "cell_type": "markdown",
   "metadata": {},
   "source": [
    "## TURTLE LIBRARY\n",
    "___________"
   ]
  },
  {
   "cell_type": "markdown",
   "metadata": {},
   "source": [
    "### JOIN ME AT THE .PY FILE"
   ]
  },
  {
   "cell_type": "markdown",
   "metadata": {},
   "source": [
    "# DAY5"
   ]
  },
  {
   "cell_type": "markdown",
   "metadata": {},
   "source": [
    "## CONSTANT\n",
    "____________"
   ]
  },
  {
   "cell_type": "code",
   "execution_count": null,
   "metadata": {},
   "outputs": [],
   "source": [
    "PI = 3.14\n",
    "MATH_E = 2.97\n",
    "API = 'something important'"
   ]
  },
  {
   "cell_type": "markdown",
   "metadata": {},
   "source": [
    "## CONDITIONALS\n",
    "_________"
   ]
  },
  {
   "cell_type": "markdown",
   "metadata": {},
   "source": [
    "if CONDITIONS:<br>\n",
    "&nbsp;&nbsp;&nbsp;&nbsp;DO__SOMETHING"
   ]
  },
  {
   "cell_type": "code",
   "execution_count": 8,
   "metadata": {},
   "outputs": [
    {
     "name": "stdout",
     "output_type": "stream",
     "text": [
      "ох дааа\n",
      "ОХ НЕТ\n",
      "ох дааа\n",
      "ОХ НЕТ\n"
     ]
    }
   ],
   "source": [
    "if 5 != 4:\n",
    "    if 5 != 3:\n",
    "        if 5 != 2:\n",
    "            if 5 != 1:\n",
    "                if 5 != 6:\n",
    "                    print(\"ох дааа\")\n",
    "            if 5 != 7:\n",
    "                print(\"ОХ НЕТ\")\n",
    "\n",
    "# same code but better\n",
    "if 5 != 4 and 5 != 3 and 5 != 2:\n",
    "    if 5 != 1 and 5 != 6:\n",
    "        print(\"ох дааа\")\n",
    "    if 5 != 7:\n",
    "        print(\"ОХ НЕТ\")"
   ]
  },
  {
   "cell_type": "code",
   "execution_count": 7,
   "metadata": {},
   "outputs": [
    {
     "name": "stdout",
     "output_type": "stream",
     "text": [
      "ДА\n",
      "False\n"
     ]
    }
   ],
   "source": [
    "# INNTRODUCING ELSE\n",
    "# first block\n",
    "if 4 == 5:\n",
    "    print(\"Yes\")\n",
    "\n",
    "# second block\n",
    "if 4 <= 6:\n",
    "    print(\"ДА\")\n",
    "else:\n",
    "    print(\"No\")\n",
    "\n",
    "# third block\n",
    "if 1 == 5:\n",
    "    print(\"True\")\n",
    "else:\n",
    "    print(\"False\")"
   ]
  },
  {
   "cell_type": "code",
   "execution_count": 9,
   "metadata": {},
   "outputs": [
    {
     "name": "stdout",
     "output_type": "stream",
     "text": [
      "C\n"
     ]
    }
   ],
   "source": [
    "# INTRODUCING ELIF (else if)\n",
    "\n",
    "if 2 > 3:\n",
    "    print(\"A\")\n",
    "elif 3 > 4:\n",
    "    print(\"B\")\n",
    "elif 3 == 3:\n",
    "    print(\"C\")\n",
    "else:\n",
    "    print(\"D\")\n"
   ]
  },
  {
   "cell_type": "code",
   "execution_count": 31,
   "metadata": {},
   "outputs": [
    {
     "name": "stdout",
     "output_type": "stream",
     "text": [
      "Cavier and Foie Gras, sire\n",
      "with wine, sire\n"
     ]
    }
   ],
   "source": [
    "# real-life example\n",
    "\n",
    "pocket_money = int(input(\"Enter your pocket money:\"))\n",
    "age = int(input(\"What is your age:\"))\n",
    "\n",
    "is_older_than_20 = age > 20\n",
    "\n",
    "if pocket_money > 3000:\n",
    "    print(\"Cavier and Foie Gras, sire\")\n",
    "    if is_older_than_20:\n",
    "        print(\"with wine, sire\")\n",
    "elif pocket_money > 700:\n",
    "    print(\"Buffet\")\n",
    "    if is_older_than_20:\n",
    "        print(\"coming with Beer, sir\")\n",
    "elif pocket_money > 100:\n",
    "    print(\"Tom Yum\")\n",
    "    print(\"Omelet\")\n",
    "else:\n",
    "    print(\"Go back home and eat MAMA\")\n",
    "    print(\"Water\")"
   ]
  },
  {
   "cell_type": "markdown",
   "metadata": {},
   "source": []
  },
  {
   "cell_type": "markdown",
   "metadata": {},
   "source": [
    "# DAY6"
   ]
  },
  {
   "cell_type": "markdown",
   "metadata": {},
   "source": [
    "## LOOP\n",
    "_________"
   ]
  },
  {
   "cell_type": "markdown",
   "metadata": {},
   "source": [
    "### WHILE LOOP"
   ]
  },
  {
   "cell_type": "code",
   "execution_count": 5,
   "metadata": {},
   "outputs": [
    {
     "name": "stdout",
     "output_type": "stream",
     "text": [
      "2\n",
      "4\n",
      "6\n",
      "8\n",
      "10\n",
      "12\n",
      "14\n",
      "16\n",
      "18\n",
      "20\n"
     ]
    }
   ],
   "source": [
    "# run 1-5\n",
    "\n",
    "# Print number from 1-20\n",
    "number = 2\n",
    "while  number <= 20:\n",
    "    print(number)\n",
    "    number += 2"
   ]
  },
  {
   "cell_type": "markdown",
   "metadata": {},
   "source": [
    "### BREAK, CONTINUE, PASS"
   ]
  },
  {
   "cell_type": "code",
   "execution_count": null,
   "metadata": {},
   "outputs": [],
   "source": [
    "# break\n",
    "number = 1\n",
    "while True:\n",
    "    print(number)\n",
    "    if number % 17 == 0 and number % 2 == 0:\n",
    "        break\n",
    "    number += 1"
   ]
  },
  {
   "cell_type": "code",
   "execution_count": null,
   "metadata": {},
   "outputs": [],
   "source": [
    "# continue\n",
    "number = 1\n",
    "while True:\n",
    "    print(number)\n",
    "    if number % 17 == 0 and number % 2 == 0:\n",
    "        break\n",
    "    if number == 2:\n",
    "        continue\n",
    "        print(\"Hello world\") # Ignore the next line\n",
    "    number += 1"
   ]
  },
  {
   "cell_type": "code",
   "execution_count": null,
   "metadata": {},
   "outputs": [],
   "source": [
    "# pass\n",
    "number = 1\n",
    "while True:\n",
    "    print(number)\n",
    "    if number % 17 == 0 and number % 2 == 0:\n",
    "        break\n",
    "    if number == 2:\n",
    "        pass\n",
    "        print(\"hello world\")\n",
    "    number += 1"
   ]
  },
  {
   "cell_type": "markdown",
   "metadata": {},
   "source": [
    "### FOR LOOP"
   ]
  },
  {
   "cell_type": "code",
   "execution_count": 30,
   "metadata": {},
   "outputs": [],
   "source": [
    "# range(start, stop, step)\n",
    "\n",
    "for i in range(10,-1,1):\n",
    "    print(i)"
   ]
  },
  {
   "cell_type": "code",
   "execution_count": 40,
   "metadata": {},
   "outputs": [
    {
     "name": "stdout",
     "output_type": "stream",
     "text": [
      "1\n",
      "4\n",
      "9\n",
      "16\n",
      "25\n",
      "36\n",
      "49\n",
      "64\n",
      "81\n",
      "100\n"
     ]
    }
   ],
   "source": [
    "# Square of number from 1-1000\n",
    "\n",
    "for number in range(1,11):\n",
    "    result = number**2\n",
    "    print(result)"
   ]
  },
  {
   "cell_type": "markdown",
   "metadata": {},
   "source": [
    "# DAY7"
   ]
  },
  {
   "cell_type": "markdown",
   "metadata": {},
   "source": [
    "### NESTED LOOP"
   ]
  },
  {
   "cell_type": "code",
   "execution_count": 6,
   "metadata": {},
   "outputs": [],
   "source": [
    "for num1 in range(2):\n",
    "    for num2 in range(3):\n",
    "        \n",
    "        if(num1 * num2 == 2):\n",
    "            continue\n",
    "        print(num1, num2)\n",
    "        "
   ]
  },
  {
   "cell_type": "markdown",
   "metadata": {},
   "source": [
    "## STRING\n",
    "___________"
   ]
  },
  {
   "cell_type": "code",
   "execution_count": 13,
   "metadata": {},
   "outputs": [],
   "source": [
    "s = \"\"\"\n",
    "Some string goes here\n",
    "Hi Mark.\n",
    "\"\"\""
   ]
  },
  {
   "cell_type": "code",
   "execution_count": 4,
   "metadata": {},
   "outputs": [
    {
     "data": {
      "text/plain": [
       "'testtesttest'"
      ]
     },
     "execution_count": 4,
     "metadata": {},
     "output_type": "execute_result"
    }
   ],
   "source": [
    "# length of the string\n",
    "\n",
    "some_string = \"This is a really really long string\"\n",
    "len(some_string)\n",
    "\n",
    "# Multiple of string\n",
    "some_string = \"test\" * 3\n",
    "print(some_string)"
   ]
  },
  {
   "cell_type": "markdown",
   "metadata": {},
   "source": [
    "### INDEXING"
   ]
  },
  {
   "cell_type": "code",
   "execution_count": 2,
   "metadata": {},
   "outputs": [
    {
     "name": "stdout",
     "output_type": "stream",
     "text": [
      "T\n"
     ]
    }
   ],
   "source": [
    "this_string = \"This is a stringafnauib jhbfjaw fjenfhewbfibdgheuf eufhwaf uofhewivuehfugoebfiuhgf9wehf;3\"\n",
    "\n",
    "print(this_string[0]) # From the back"
   ]
  },
  {
   "cell_type": "markdown",
   "metadata": {},
   "source": [
    "### SLICING"
   ]
  },
  {
   "cell_type": "code",
   "execution_count": 1,
   "metadata": {},
   "outputs": [
    {
     "data": {
      "text/plain": [
       "'Just a normal string'"
      ]
     },
     "execution_count": 1,
     "metadata": {},
     "output_type": "execute_result"
    }
   ],
   "source": [
    "s = \"Just a normal string\"\n",
    "\n",
    "s[3:9:3] # s[start, stop, step]\n",
    "s[::-1] # reverse string\n",
    "s[-20:20]"
   ]
  },
  {
   "cell_type": "markdown",
   "metadata": {},
   "source": [
    "# DAY8"
   ]
  },
  {
   "cell_type": "markdown",
   "metadata": {},
   "source": [
    "## F-STRING (FORMATTED STRING)\n",
    "___________________"
   ]
  },
  {
   "cell_type": "code",
   "execution_count": 9,
   "metadata": {},
   "outputs": [
    {
     "name": "stdout",
     "output_type": "stream",
     "text": [
      "Hello, Boiii. Your age is 18.\n",
      "Hello, Boiii. Your age is 18\n"
     ]
    }
   ],
   "source": [
    "user_name = input()\n",
    "age = input()\n",
    "\n",
    "greeting_msg = \"Hello, \" + user_name + \". Your age is \" + age + \".\"\n",
    "greeting_msg_formatted = f\"Hello, {user_name}. Your age is {age}\"\n",
    "\n",
    "print(greeting_msg)\n",
    "print(greeting_msg_formatted)"
   ]
  },
  {
   "cell_type": "markdown",
   "metadata": {},
   "source": [
    "## Spliting\n",
    "__________"
   ]
  },
  {
   "cell_type": "code",
   "execution_count": 11,
   "metadata": {},
   "outputs": [
    {
     "data": {
      "text/plain": [
       "['Hello,', 'Boiii.', 'Your', 'age', 'is', '18']"
      ]
     },
     "execution_count": 11,
     "metadata": {},
     "output_type": "execute_result"
    }
   ],
   "source": [
    "greeting_msg_formatted.split()"
   ]
  },
  {
   "cell_type": "code",
   "execution_count": 19,
   "metadata": {},
   "outputs": [
    {
     "data": {
      "text/plain": [
       "['', ' love suck', 'ng lemons']"
      ]
     },
     "execution_count": 19,
     "metadata": {},
     "output_type": "execute_result"
    }
   ],
   "source": [
    "s = 'i love sucking lemons'\n",
    "s.split('i')"
   ]
  },
  {
   "cell_type": "markdown",
   "metadata": {},
   "source": [
    "## IN / NOT IN OPERATORS\n",
    "_____________"
   ]
  },
  {
   "cell_type": "code",
   "execution_count": 16,
   "metadata": {},
   "outputs": [
    {
     "name": "stdout",
     "output_type": "stream",
     "text": [
      "True\n",
      "False\n",
      "True\n",
      "True\n"
     ]
    }
   ],
   "source": [
    "s = \"I love sucking lemons\"\n",
    "print('o' in s) # True\n",
    "print('  ' in s) # False\n",
    "print('ov' in s) # True\n",
    "print('oe' not in s) # True"
   ]
  },
  {
   "cell_type": "code",
   "execution_count": 21,
   "metadata": {},
   "outputs": [
    {
     "name": "stdout",
     "output_type": "stream",
     "text": [
      "1\n"
     ]
    }
   ],
   "source": [
    "s = 'i love sucking lemon'\n",
    "result = s.count(\"lemo\")\n",
    "print(result)"
   ]
  },
  {
   "cell_type": "code",
   "execution_count": 42,
   "metadata": {},
   "outputs": [
    {
     "name": "stdout",
     "output_type": "stream",
     "text": [
      "I nope sir sucking lemons\n"
     ]
    }
   ],
   "source": [
    "s.capitalize() # make first character be a capital letter\n",
    "\n",
    "s.upper() # make all character be a capital character\n",
    "s.lower() # make all character be a lower_case character\n",
    "\n",
    "s.isupper() # check if there is at least one capital letter\n",
    "\n",
    "s = \"I love sucking lemons\"\n",
    "new_s = s.replace(\"love\", \"nope sir\")\n",
    "print(new_s)"
   ]
  },
  {
   "cell_type": "markdown",
   "metadata": {},
   "source": [
    "## LOOP THROUGH STRING\n",
    "______________"
   ]
  },
  {
   "cell_type": "code",
   "execution_count": 57,
   "metadata": {},
   "outputs": [
    {
     "name": "stdout",
     "output_type": "stream",
     "text": [
      "I\n",
      " \n",
      "l\n",
      "o\n",
      "v\n",
      "e\n"
     ]
    }
   ],
   "source": [
    "s = \"I love\"\n",
    "for character in s:\n",
    "    print(character)\n"
   ]
  },
  {
   "cell_type": "code",
   "execution_count": 60,
   "metadata": {},
   "outputs": [
    {
     "name": "stdout",
     "output_type": "stream",
     "text": [
      "0 I\n",
      "1  \n",
      "2 l\n",
      "3 o\n",
      "4 v\n",
      "5 e\n"
     ]
    }
   ],
   "source": [
    "for i in range(len(s)):\n",
    "    print(i, s[i])"
   ]
  },
  {
   "cell_type": "code",
   "execution_count": 61,
   "metadata": {},
   "outputs": [
    {
     "name": "stdout",
     "output_type": "stream",
     "text": [
      "0 T\n",
      "1 h\n",
      "2 i\n",
      "3 s\n",
      "4  \n",
      "5 i\n",
      "6 s\n",
      "7  \n",
      "8 a\n",
      "9  \n",
      "10 s\n",
      "11 t\n",
      "12 r\n",
      "13 i\n",
      "14 n\n",
      "15 g\n"
     ]
    }
   ],
   "source": [
    "s = \"This is a string\"\n",
    "\n",
    "for index, character in enumerate(s):\n",
    "    print(index, character)"
   ]
  },
  {
   "cell_type": "markdown",
   "metadata": {},
   "source": []
  },
  {
   "cell_type": "markdown",
   "metadata": {},
   "source": [
    "# DAY9"
   ]
  },
  {
   "cell_type": "markdown",
   "metadata": {},
   "source": [
    "## LIST\n",
    "__________"
   ]
  },
  {
   "cell_type": "code",
   "execution_count": 26,
   "metadata": {},
   "outputs": [
    {
     "name": "stdout",
     "output_type": "stream",
     "text": [
      "Hello+World\n"
     ]
    }
   ],
   "source": [
    "empty_list = []\n",
    "empty_list = list()\n",
    "\n",
    "print(\"Hello\", \"World\", sep=\"+\")\n",
    "numbers = [1, 2, 3, 4]\n",
    "\n",
    "my_list = [1, 0.2, True, \"String WOW\", None, [], [1, 2], print, input, empty_list]\n",
    "\n",
    "\n"
   ]
  },
  {
   "cell_type": "markdown",
   "metadata": {},
   "source": [
    "## LENGHT, INDEXING, SLICING, LOOP\n",
    "________"
   ]
  },
  {
   "cell_type": "code",
   "execution_count": 27,
   "metadata": {},
   "outputs": [
    {
     "data": {
      "text/plain": [
       "3"
      ]
     },
     "execution_count": 27,
     "metadata": {},
     "output_type": "execute_result"
    }
   ],
   "source": [
    "l = [1, True, 0.5]\n",
    "len(l)"
   ]
  },
  {
   "cell_type": "code",
   "execution_count": 30,
   "metadata": {},
   "outputs": [
    {
     "name": "stdout",
     "output_type": "stream",
     "text": [
      "m\n"
     ]
    },
    {
     "data": {
      "text/plain": [
       "0.5"
      ]
     },
     "execution_count": 30,
     "metadata": {},
     "output_type": "execute_result"
    }
   ],
   "source": [
    "str = \"I am the string xD\"\n",
    "print(str[3])\n",
    "\n",
    "l[2] # work the same as string index\n"
   ]
  },
  {
   "cell_type": "code",
   "execution_count": 38,
   "metadata": {},
   "outputs": [
    {
     "data": {
      "text/plain": [
       "[<function print(*args, sep=' ', end='\\n', file=None, flush=False)>,\n",
       " None,\n",
       " 'PalmBOI',\n",
       " 0.5,\n",
       " True,\n",
       " 1]"
      ]
     },
     "execution_count": 38,
     "metadata": {},
     "output_type": "execute_result"
    }
   ],
   "source": [
    "l = [1, True, 0.5, \"PalmBOI\", None, print]\n",
    "\n",
    "l[1:5] # l[start: stop: step] output as a list\n",
    "l[::-1]"
   ]
  },
  {
   "cell_type": "code",
   "execution_count": 39,
   "metadata": {},
   "outputs": [
    {
     "name": "stdout",
     "output_type": "stream",
     "text": [
      "1\n",
      "True\n",
      "0.5\n",
      "PalmBOI\n",
      "None\n",
      "<built-in function print>\n"
     ]
    }
   ],
   "source": [
    "for item in l:\n",
    "    print(item)"
   ]
  },
  {
   "cell_type": "markdown",
   "metadata": {},
   "source": [
    "## MODIFYING OUT LIST\n",
    "__________"
   ]
  },
  {
   "cell_type": "code",
   "execution_count": 43,
   "metadata": {},
   "outputs": [
    {
     "name": "stdout",
     "output_type": "stream",
     "text": [
      "[1, 2, 3, 4]\n",
      "[1, True, 2, 3, 4]\n",
      "[1, True, 2, 3, 4, 5, 6, 7, 8, 9, 10]\n",
      "[1, True, 2, 3, 4, 5, 6, 7, 8, 9, 10, 'this', 'work', 'the', 'same']\n"
     ]
    }
   ],
   "source": [
    "l = [1, 2, 3]\n",
    "l.append(4) # add only one element in the list\n",
    "print(l)\n",
    "\n",
    "l.insert(1, True) # add two element to the list\n",
    "print(l)\n",
    "\n",
    "l.extend([5, 6, 7, 8, 9, 10])\n",
    "print(l)\n",
    "\n",
    "l += [\"this\", \"work\", \"the\", \"same\"]\n",
    "print(l)"
   ]
  },
  {
   "cell_type": "code",
   "execution_count": 47,
   "metadata": {},
   "outputs": [
    {
     "name": "stdout",
     "output_type": "stream",
     "text": [
      "[[1, 2, 3], [4, 5, 6]]\n"
     ]
    }
   ],
   "source": [
    "list_a = [1, 2, 3]\n",
    "list_b = [4, 5, 6]\n",
    "\n",
    "# c = [[1, 2, 3],[4, 5, 6]]\n",
    "list_c = []\n",
    "\n",
    "list_c.extend([list_a, list_b])\n",
    "\n",
    "print(list_c)"
   ]
  },
  {
   "cell_type": "markdown",
   "metadata": {},
   "source": [
    "## POP, REMOVE, CLEAR\n",
    "______"
   ]
  },
  {
   "cell_type": "code",
   "execution_count": 48,
   "metadata": {},
   "outputs": [
    {
     "name": "stdout",
     "output_type": "stream",
     "text": [
      "[1, 2]\n"
     ]
    }
   ],
   "source": [
    "# pop\n",
    "l = [1, 2, 3]\n",
    "l.pop() # pop out the last element of the list\n",
    "\n",
    "print(l)"
   ]
  },
  {
   "cell_type": "code",
   "execution_count": 52,
   "metadata": {},
   "outputs": [
    {
     "name": "stdout",
     "output_type": "stream",
     "text": [
      "[1, 2, True]\n"
     ]
    }
   ],
   "source": [
    "# remove\n",
    "l = [1, 2, 3, True]\n",
    "l.remove(3) # remove the specifying value\n",
    "\n",
    "print(l)"
   ]
  },
  {
   "cell_type": "code",
   "execution_count": 58,
   "metadata": {},
   "outputs": [
    {
     "name": "stdout",
     "output_type": "stream",
     "text": [
      "[None, 3, <built-in function print>]\n"
     ]
    }
   ],
   "source": [
    "l = [1, True, None, 1, 3, print]\n",
    "new_l = []\n",
    "\n",
    "for item in l:\n",
    "    if not item == 1:\n",
    "        new_l.append(item)\n",
    "\n",
    "print(new_l)"
   ]
  },
  {
   "cell_type": "code",
   "execution_count": null,
   "metadata": {},
   "outputs": [],
   "source": []
  }
 ],
 "metadata": {
  "kernelspec": {
   "display_name": "my_app",
   "language": "python",
   "name": "python3"
  },
  "language_info": {
   "codemirror_mode": {
    "name": "ipython",
    "version": 3
   },
   "file_extension": ".py",
   "mimetype": "text/x-python",
   "name": "python",
   "nbconvert_exporter": "python",
   "pygments_lexer": "ipython3",
   "version": "3.12.4"
  }
 },
 "nbformat": 4,
 "nbformat_minor": 2
}
