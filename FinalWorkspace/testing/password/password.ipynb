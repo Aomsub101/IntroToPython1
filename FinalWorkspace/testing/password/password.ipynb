{
 "cells": [
  {
   "cell_type": "code",
   "execution_count": 2,
   "metadata": {},
   "outputs": [
    {
     "name": "stdout",
     "output_type": "stream",
     "text": [
      "Encode:  b'SGVsbG8sIHRoaXMgaXMgTWFyaw=='\n",
      "Decode:  Hello, this is Mark\n"
     ]
    }
   ],
   "source": [
    "import base64\n",
    "plain_text = \"Hello, this is Mark\"\n",
    "\n",
    "encode = base64.b64encode(plain_text.encode('utf-8'))\n",
    "\n",
    "print(\"Encode: \", encode)\n",
    "\n",
    "decode = base64.b64decode(encode).decode('utf-8')\n",
    "\n",
    "print(\"Decode: \", decode)"
   ]
  },
  {
   "cell_type": "code",
   "execution_count": null,
   "metadata": {},
   "outputs": [],
   "source": [
    "import hashlib"
   ]
  }
 ],
 "metadata": {
  "kernelspec": {
   "display_name": "my_app",
   "language": "python",
   "name": "python3"
  },
  "language_info": {
   "codemirror_mode": {
    "name": "ipython",
    "version": 3
   },
   "file_extension": ".py",
   "mimetype": "text/x-python",
   "name": "python",
   "nbconvert_exporter": "python",
   "pygments_lexer": "ipython3",
   "version": "3.12.4"
  }
 },
 "nbformat": 4,
 "nbformat_minor": 2
}
